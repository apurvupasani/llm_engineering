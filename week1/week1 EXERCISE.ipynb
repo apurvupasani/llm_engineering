{
 "cells": [
  {
   "cell_type": "markdown",
   "id": "fe12c203-e6a6-452c-a655-afb8a03a4ff5",
   "metadata": {},
   "source": [
    "# End of week 1 exercise\n",
    "\n",
    "To demonstrate your familiarity with OpenAI API, and also Ollama, build a tool that takes a technical question,  \n",
    "and responds with an explanation. This is a tool that you will be able to use yourself during the course!"
   ]
  },
  {
   "cell_type": "code",
   "execution_count": 21,
   "id": "c1070317-3ed9-4659-abe3-828943230e03",
   "metadata": {},
   "outputs": [],
   "source": [
    "# imports\n",
    "from dotenv import load_dotenv\n",
    "import requests\n",
    "from IPython.display import Markdown, display, update_display\n",
    "from openai import OpenAI\n",
    "import ollama\n"
   ]
  },
  {
   "cell_type": "code",
   "execution_count": 22,
   "id": "4a456906-915a-4bfd-bb9d-57e505c5093f",
   "metadata": {},
   "outputs": [],
   "source": [
    "# constants\n",
    "\n",
    "MODEL_GPT = 'gpt-4o-mini'\n",
    "MODEL_LLAMA = 'llama3.2'"
   ]
  },
  {
   "cell_type": "code",
   "execution_count": 23,
   "id": "a8d7923c-5f28-4c30-8556-342d7c8497c1",
   "metadata": {},
   "outputs": [
    {
     "data": {
      "text/plain": [
       "True"
      ]
     },
     "execution_count": 23,
     "metadata": {},
     "output_type": "execute_result"
    }
   ],
   "source": [
    "# set up environment\n",
    "load_dotenv(override=True)"
   ]
  },
  {
   "cell_type": "code",
   "execution_count": 24,
   "id": "3f0d0137-52b0-47a8-81a8-11a90a010798",
   "metadata": {},
   "outputs": [
    {
     "name": "stdin",
     "output_type": "stream",
     "text": [
      "Please enter your question:  Please explain what this code does and why: yield from {book.get(\"author\") for book in books if book.get(\"author\")}\n"
     ]
    }
   ],
   "source": [
    "# here is the question; type over this to ask something new\n",
    "\n",
    "question = input(\"Please enter your question: \")"
   ]
  },
  {
   "cell_type": "code",
   "execution_count": 25,
   "id": "165108bb-41f8-49c0-87fa-f8df82e76233",
   "metadata": {},
   "outputs": [],
   "source": [
    "# prompts\n",
    "\n",
    "system_prompt = \"\"\"\n",
    "        You are a helpful technical assistant.\n",
    "        You are an expert in Python, LLMs, frontier models and coding. \n",
    "        You will answer the questions in any of the topics listed above.\n",
    "        You will keep your responses concise, unless explicitly to describe or explain things in details.\n",
    "    \"\"\"\n",
    "\n",
    "user_prompt = f\"\"\"\n",
    "        Please provide a detailed explanation of the question: {question}\n",
    "    \"\"\"\n",
    "\n",
    "messages = [\n",
    "    {\"role\": \"system\", \"content\": system_prompt},\n",
    "    {\"role\": \"user\", \"content\": user_prompt}\n",
    "]"
   ]
  },
  {
   "cell_type": "code",
   "execution_count": 26,
   "id": "60ce7000-a4a5-4cce-a261-e75ef45063b4",
   "metadata": {},
   "outputs": [
    {
     "data": {
      "text/markdown": [
       "The code snippet you provided utilizes Python's `yield from` syntax in conjunction with a set comprehension. Let's break it down step by step:\n",
       "\n",
       "### Components of the Code\n",
       "\n",
       "1. **Set Comprehension**:\n",
       "   python\n",
       "   {book.get(\"author\") for book in books if book.get(\"author\")}\n",
       "   \n",
       "   - This creates a set of authors by iterating over an iterable named `books`.\n",
       "   - For each `book` in `books`, it retrieves the value associated with the key `\"author\"` using `book.get(\"author\")`.\n",
       "   - The `if book.get(\"author\")` condition ensures that only books with a valid (non-`None` or non-empty) author are included in the set.\n",
       "\n",
       "2. **Yield From**:\n",
       "   python\n",
       "   yield from ...\n",
       "   \n",
       "   - The `yield from` expression is used in generator functions. It allows you to yield all values from an iterable, in this case, the set created in the previous step.\n",
       "   - This means that instead of yielding one value at a time manually, `yield from` takes care of yielding each element of the set automatically.\n",
       "\n",
       "### What This Code Does\n",
       "\n",
       "- **Purpose**: This code defines a generator function that, when called, will yield all unique authors of books from a list called `books`, but only includes those authors that are present (not `None` or empty).\n",
       "  \n",
       "- **Output**: The output will produce an iterator that provides each unique author one by one when iterated over.\n",
       "\n",
       "### Why This Code Is Useful\n",
       "\n",
       "- **Unique Values**: Using a set comprehension ensures that each author is yielded once, avoiding duplicates.\n",
       "- **Simplicity and Readability**: The combination of `yield from` with comprehension allows for cleaner, more concise code, making it easier to understand and maintain.\n",
       "- **Efficiency**: It efficiently filters and processes the input while generating results on-the-fly (lazy evaluation), which can be memory-efficient when dealing with large datasets.\n",
       "\n",
       "### Example Usage\n",
       "\n",
       "Assuming `books` is a list of dictionaries like below:\n",
       "\n",
       "python\n",
       "books = [\n",
       "    {\"title\": \"Book A\", \"author\": \"Author 1\"},\n",
       "    {\"title\": \"Book B\", \"author\": \"Author 2\"},\n",
       "    {\"title\": \"Book C\", \"author\": \"Author 1\"},  # Duplicate\n",
       "    {\"title\": \"Book D\"},                         # No author\n",
       "    {\"title\": \"Book E\", \"author\": \"\"}           # Empty author\n",
       "]\n",
       "```\n",
       "\n",
       "Using the given code in a generator function:\n",
       "\n",
       "python\n",
       "def get_unique_authors(books):\n",
       "    yield from {book.get(\"author\") for book in books if book.get(\"author\")}\n",
       "```\n",
       "\n",
       "When iterated, it would yield `Author 1` and `Author 2`, ignoring duplicates and empty values.\n",
       "\n",
       "### Summary\n",
       "\n",
       "The provided code is a concise and efficient way to create a generator that yields unique authors from a list of books, leveraging Python's set comprehension and generator functionality for better readability and performance."
      ],
      "text/plain": [
       "<IPython.core.display.Markdown object>"
      ]
     },
     "metadata": {},
     "output_type": "display_data"
    }
   ],
   "source": [
    "# Get gpt-4o-mini to answer, with streaming\n",
    "stream = openai.chat.completions.create(model=MODEL_GPT, messages=messages,stream=True)\n",
    "response = \"\"\n",
    "display_handle = display(Markdown(\"\"), display_id=True)\n",
    "\n",
    "for chunk in stream:\n",
    "    chunk_elem = chunk.choices[0].delta.content or ''\n",
    "    chunk_elem = chunk_elem.replace(\"```\",\"\").replace(\"markdown\", \"\")\n",
    "    response += chunk_elem\n",
    "    update_display(Markdown(response), display_id=display_handle.display_id)\n"
   ]
  },
  {
   "cell_type": "code",
   "execution_count": null,
   "id": "d397c692-556e-4245-8297-b34015a1c2ac",
   "metadata": {},
   "outputs": [],
   "source": [
    "# Get Llama 3.2 to answer\n",
    "response = ollama.chat(model=MODEL_LLAMA, messages = messages)\n",
    "display(Markdown(response['message']['content']))"
   ]
  }
 ],
 "metadata": {
  "kernelspec": {
   "display_name": "Python 3 (ipykernel)",
   "language": "python",
   "name": "python3"
  },
  "language_info": {
   "codemirror_mode": {
    "name": "ipython",
    "version": 3
   },
   "file_extension": ".py",
   "mimetype": "text/x-python",
   "name": "python",
   "nbconvert_exporter": "python",
   "pygments_lexer": "ipython3",
   "version": "3.9.6"
  }
 },
 "nbformat": 4,
 "nbformat_minor": 5
}
